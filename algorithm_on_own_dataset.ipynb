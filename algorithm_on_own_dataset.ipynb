{
 "cells": [
  {
   "cell_type": "code",
   "execution_count": 1,
   "metadata": {},
   "outputs": [],
   "source": [
    "#### Import packages ####\n",
    "import copy\n",
    "import itertools\n",
    "import math\n",
    "import os\n",
    "import time\n",
    "\n",
    "import matplotlib.pyplot as plt\n",
    "import matplotlib.patches as patches\n",
    "import numpy as np\n",
    "import networkx as nx\n",
    "from matplotlib import cm\n",
    "\n",
    "import trajectory as traj"
   ]
  },
  {
   "cell_type": "code",
   "execution_count": null,
   "metadata": {},
   "outputs": [],
   "source": [
    "# Wat willen we testen:\n",
    "# Testen op alle data -- simple & iterative\n",
    "# 2 of 3 filters\n",
    "# 1 filter start naar eindpunt\n",
    "# 2 andere filters\n",
    "# "
   ]
  },
  {
   "cell_type": "code",
   "execution_count": 3,
   "metadata": {},
   "outputs": [
    {
     "name": "stdout",
     "output_type": "stream",
     "text": [
      "Constructing weight matrix ...\n"
     ]
    },
    {
     "name": "stderr",
     "output_type": "stream",
     "text": [
      "100%|██████████| 637841/637841 [02:23<00:00, 4442.38it/s]\n"
     ]
    }
   ],
   "source": [
    "#### Get trajectory data ####\n",
    "trajectory_data = traj.Trajectory(r\"airport_trajectories_NEW.txt\")\n",
    "edge_matrix = trajectory_data.constructWeightMatrix(None, True)"
   ]
  },
  {
   "cell_type": "code",
   "execution_count": 5,
   "metadata": {},
   "outputs": [
    {
     "data": {
      "text/plain": [
       "['AMS',\n",
       " 'ATL',\n",
       " 'BJC',\n",
       " 'FCO',\n",
       " 'IST',\n",
       " 'JFK',\n",
       " 'KEF',\n",
       " 'LAX',\n",
       " 'LHR',\n",
       " 'LIS',\n",
       " 'SEA',\n",
       " 'SVO',\n",
       " 'TPA']"
      ]
     },
     "execution_count": 5,
     "metadata": {},
     "output_type": "execute_result"
    }
   ],
   "source": [
    "#### Get unique airports ####\n",
    "unique_airports = trajectory_data.unique_points\n",
    "unique_airports"
   ]
  }
 ],
 "metadata": {
  "kernelspec": {
   "display_name": "Python 3",
   "language": "python",
   "name": "python3"
  },
  "language_info": {
   "codemirror_mode": {
    "name": "ipython",
    "version": 3
   },
   "file_extension": ".py",
   "mimetype": "text/x-python",
   "name": "python",
   "nbconvert_exporter": "python",
   "pygments_lexer": "ipython3",
   "version": "3.11.9"
  }
 },
 "nbformat": 4,
 "nbformat_minor": 2
}
